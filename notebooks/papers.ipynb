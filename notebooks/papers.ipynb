{
 "cells": [
  {
   "cell_type": "markdown",
   "source": [
    "Indexing dataset\n",
    "================"
   ],
   "metadata": {
    "collapsed": false
   }
  },
  {
   "cell_type": "code",
   "execution_count": 1,
   "outputs": [
    {
     "name": "stdout",
     "output_type": "stream",
     "text": [
      "extending pathes with local indexpaper\n",
      "['..', '/home/antonkulaga/sources/indexpaper/notebooks', '/home/antonkulaga/sources/indexpaper', '/home/antonkulaga/micromamba/envs/indexpaper/lib/python310.zip', '/home/antonkulaga/micromamba/envs/indexpaper/lib/python3.10', '/home/antonkulaga/micromamba/envs/indexpaper/lib/python3.10/lib-dynload', '', '/home/antonkulaga/.local/lib/python3.10/site-packages', '/home/antonkulaga/micromamba/envs/indexpaper/lib/python3.10/site-packages']\n"
     ]
    }
   ],
   "source": [
    "from pathlib import Path\n",
    "import sys\n",
    "debug_local = True#False\n",
    "local = (Path(\"..\") / \"indexpaper\").resolve()\n",
    "if debug_local and local.exists():\n",
    "  sys.path.insert(0, Path(\"..\").as_posix())\n",
    "  print(\"extending pathes with local indexpaper\")\n",
    "  print(sys.path)\n",
    "  %load_ext autoreload\n",
    "  %autoreload 2"
   ],
   "metadata": {
    "collapsed": false,
    "ExecuteTime": {
     "end_time": "2023-08-06T11:25:11.101883798Z",
     "start_time": "2023-08-06T11:25:11.101320963Z"
    }
   }
  },
  {
   "cell_type": "code",
   "execution_count": 2,
   "metadata": {
    "ExecuteTime": {
     "end_time": "2023-08-06T11:25:14.081345799Z",
     "start_time": "2023-08-06T11:25:11.592794487Z"
    }
   },
   "outputs": [
    {
     "name": "stderr",
     "output_type": "stream",
     "text": [
      "/home/antonkulaga/micromamba/envs/indexpaper/lib/python3.10/site-packages/beartype/_util/hint/pep/utilpeptest.py:311: BeartypeDecorHintPep585DeprecationWarning: PEP 484 type hint typing.Callable[[list[langchain.schema.document.Document]], NoneType] deprecated by PEP 585. This hint is scheduled for removal in the first Python version released after October 5th, 2025. To resolve this, import this hint from \"beartype.typing\" rather than \"typing\". For further commentary and alternatives, see also:\n",
      "    https://beartype.readthedocs.io/en/latest/api_roar/#pep-585-deprecations\n",
      "  warn(\n"
     ]
    },
    {
     "data": {
      "text/plain": "polars.config.Config"
     },
     "execution_count": 2,
     "metadata": {},
     "output_type": "execute_result"
    }
   ],
   "source": [
    "import polars as pl\n",
    "from indexpaper import index\n",
    "\n",
    "from pycomfort.files import *\n",
    "from typing import List\n",
    "from pathlib import Path\n",
    "from polars import Config\n",
    "Config.set_fmt_str_lengths(5000)"
   ]
  },
  {
   "cell_type": "code",
   "execution_count": 3,
   "outputs": [
    {
     "name": "stderr",
     "output_type": "stream",
     "text": [
      "No sentence-transformers model found with name /home/antonkulaga/.cache/torch/sentence_transformers/FremyCompany_BioLORD-STAMB2-v1. Creating a new one with MEAN pooling.\n",
      "2023-08-06 14:25:18.677 | INFO     | indexpaper.indexing:init_qdrant:72 - initializing quadrant database at http://localhost:6333\n"
     ]
    },
    {
     "name": "stdout",
     "output_type": "stream",
     "text": [
      "768\n"
     ]
    }
   ],
   "source": [
    "from indexpaper.paperset import Paperset\n",
    "from indexpaper.resolvers import *\n",
    "\n",
    "chunk_size = 512\n",
    "embeddings, splitter = resolve_embedding_splitter(EmbeddingType.HuggingFace, EmbeddingModels.biolord.value, chunk_size=chunk_size)\n",
    "from indexpaper.indexing import init_qdrant\n",
    "db = init_qdrant(\"biolord_moskalev_papers\", path_or_url=\"http://localhost:6333\", embeddings=embeddings)"
   ],
   "metadata": {
    "collapsed": false,
    "ExecuteTime": {
     "end_time": "2023-08-06T11:25:19.672886752Z",
     "start_time": "2023-08-06T11:25:14.084340695Z"
    }
   }
  },
  {
   "cell_type": "code",
   "execution_count": null,
   "outputs": [],
   "source": [
    "db.add_documents()"
   ],
   "metadata": {
    "collapsed": false
   }
  },
  {
   "cell_type": "markdown",
   "source": [
    "# Paperset #"
   ],
   "metadata": {
    "collapsed": false
   }
  },
  {
   "cell_type": "code",
   "execution_count": 4,
   "outputs": [
    {
     "data": {
      "text/plain": "shape: (1, 9)\n┌───────────┬───────────┬───────────┬───────────┬───┬───────────┬───────────┬───────────┬──────────┐\n│ corpusid  ┆ content_s ┆ updated   ┆ externali ┆ … ┆ annotatio ┆ annotatio ┆ annotatio ┆ annotati │\n│ ---       ┆ ource_oai ┆ ---       ┆ ds_doi    ┆   ┆ ns_abstra ┆ ns_author ┆ ns_title  ┆ ons_para │\n│ i64       ┆ nfo_opena ┆ str       ┆ ---       ┆   ┆ ct        ┆ ---       ┆ ---       ┆ graph    │\n│           ┆ ccessurl  ┆           ┆ str       ┆   ┆ ---       ┆ list[str] ┆ list[str] ┆ ---      │\n│           ┆ ---       ┆           ┆           ┆   ┆ list[str] ┆           ┆           ┆ list[str │\n│           ┆ str       ┆           ┆           ┆   ┆           ┆           ┆           ┆ ]        │\n╞═══════════╪═══════════╪═══════════╪═══════════╪═══╪═══════════╪═══════════╪═══════════╪══════════╡\n│ 259168060 ┆ null      ┆ 2023-07-0 ┆ 10.3389/f ┆ … ┆ [\"Song W  ┆ [\"Alexey  ┆ [\"OPEN    ┆ [\"It is  │\n│           ┆           ┆ 4T07:35:3 ┆ nagi.2023 ┆   ┆ (2023)    ┆ Moskalev  ┆ ACCESS    ┆ traditio │\n│           ┆           ┆ 5Z        ┆ .1179988  ┆   ┆ The glymp ┆ \",        ┆ EDITED BY ┆ nally    │\n│           ┆           ┆           ┆           ┆   ┆ hatic     ┆ \"Claudio  ┆ The glymp ┆ believed │\n│           ┆           ┆           ┆           ┆   ┆ system: a ┆ Nicoletti ┆ hatic     ┆ that the │\n│           ┆           ┆           ┆           ┆   ┆ new persp ┆ \", … \"    ┆ system: a ┆ lymphati │\n│           ┆           ┆           ┆           ┆   ┆ ective on ┆ Universit ┆ new persp ┆ c system │\n│           ┆           ┆           ┆           ┆   ┆ brain dis ┆ y of Pitt ┆ ective on ┆ doesn't  │\n│           ┆           ┆           ┆           ┆   ┆ eases.The ┆ sburgh    ┆ brain dis ┆ exist in │\n│           ┆           ┆           ┆           ┆   ┆ glymphati ┆ United    ┆ eases\",   ┆ the      │\n│           ┆           ┆           ┆           ┆   ┆ c system  ┆ States    ┆ \"OPEN     ┆ central  │\n│           ┆           ┆           ┆           ┆   ┆ is a brai ┆ \"]        ┆ ACCESS    ┆ nervous  │\n│           ┆           ┆           ┆           ┆   ┆ n-wide    ┆           ┆ EDITED BY ┆ system   │\n│           ┆           ┆           ┆           ┆   ┆ perivascu ┆           ┆ The glymp ┆ (Nederga │\n│           ┆           ┆           ┆           ┆   ┆ lar       ┆           ┆ hatic     ┆ ard and  │\n│           ┆           ┆           ┆           ┆   ┆ pathway   ┆           ┆ system: a ┆ Goldman, │\n│           ┆           ┆           ┆           ┆   ┆ driven by ┆           ┆ new persp ┆ 2016).   │\n│           ┆           ┆           ┆           ┆   ┆ aquaporin ┆           ┆ ective on ┆ Thus,    │\n│           ┆           ┆           ┆           ┆   ┆ -4 on the ┆           ┆ brain dis ┆ cell     │\n│           ┆           ┆           ┆           ┆   ┆ endfeet   ┆           ┆ eases\"]   ┆ debris,  │\n│           ┆           ┆           ┆           ┆   ┆ of astroc ┆           ┆           ┆ potentia │\n│           ┆           ┆           ┆           ┆   ┆ ytes,     ┆           ┆           ┆ l neurot │\n│           ┆           ┆           ┆           ┆   ┆ which can ┆           ┆           ┆ oxic pro │\n│           ┆           ┆           ┆           ┆   ┆ deliver   ┆           ┆           ┆ teins,   │\n│           ┆           ┆           ┆           ┆   ┆ nutrients ┆           ┆           ┆ and      │\n│           ┆           ┆           ┆           ┆   ┆ and       ┆           ┆           ┆ other    │\n│           ┆           ┆           ┆           ┆   ┆ active    ┆           ┆           ┆ metaboli │\n│           ┆           ┆           ┆           ┆   ┆ substance ┆           ┆           ┆ tes with │\n│           ┆           ┆           ┆           ┆   ┆ s to the  ┆           ┆           ┆ large    │\n│           ┆           ┆           ┆           ┆   ┆ brain par ┆           ┆           ┆ molecula │\n│           ┆           ┆           ┆           ┆   ┆ enchyma   ┆           ┆           ┆ r weight │\n│           ┆           ┆           ┆           ┆   ┆ through   ┆           ┆           ┆ are cons │\n│           ┆           ┆           ┆           ┆   ┆ periarter ┆           ┆           ┆ idered   │\n│           ┆           ┆           ┆           ┆   ┆ ial cereb ┆           ┆           ┆ to be    │\n│           ┆           ┆           ┆           ┆   ┆ rospinal  ┆           ┆           ┆ removed  │\n│           ┆           ┆           ┆           ┆   ┆ fluid     ┆           ┆           ┆ in a dif │\n│           ┆           ┆           ┆           ┆   ┆ (CSF)     ┆           ┆           ┆ ferent   │\n│           ┆           ┆           ┆           ┆   ┆ influx    ┆           ┆           ┆ clearanc │\n│           ┆           ┆           ┆           ┆   ┆ pathway   ┆           ┆           ┆ e        │\n│           ┆           ┆           ┆           ┆   ┆ and       ┆           ┆           ┆ pathway  │\n│           ┆           ┆           ┆           ┆   ┆ remove    ┆           ┆           ┆ than     │\n│           ┆           ┆           ┆           ┆   ┆ metabolic ┆           ┆           ┆ brain    │\n│           ┆           ┆           ┆           ┆   ┆ wastes    ┆           ┆           ┆ vasculat │\n│           ┆           ┆           ┆           ┆   ┆ through   ┆           ┆           ┆ ure. In  │\n│           ┆           ┆           ┆           ┆   ┆ perivenou ┆           ┆           ┆ 2012,    │\n│           ┆           ┆           ┆           ┆   ┆ s         ┆           ┆           ┆ the Nede │\n│           ┆           ┆           ┆           ┆   ┆ clearance ┆           ┆           ┆ rgaard   │\n│           ┆           ┆           ┆           ┆   ┆ routes.   ┆           ┆           ┆ (Iliff   │\n│           ┆           ┆           ┆           ┆   ┆ This      ┆           ┆           ┆ et al.,  │\n│           ┆           ┆           ┆           ┆   ┆ paper sum ┆           ┆           ┆ 2012)    │\n│           ┆           ┆           ┆           ┆   ┆ marizes   ┆           ┆           ┆ group    │\n│           ┆           ┆           ┆           ┆   ┆ the compo ┆           ┆           ┆ found    │\n│           ┆           ┆           ┆           ┆   ┆ sition,   ┆           ┆           ┆ that cer │\n│           ┆           ┆           ┆           ┆   ┆ overall   ┆           ┆           ┆ ebrospin │\n│           ┆           ┆           ┆           ┆   ┆ fluid     ┆           ┆           ┆ al fluid │\n│           ┆           ┆           ┆           ┆   ┆ flow,     ┆           ┆           ┆ (CSF)    │\n│           ┆           ┆           ┆           ┆   ┆ solute    ┆           ┆           ┆ can      │\n│           ┆           ┆           ┆           ┆   ┆ transport ┆           ┆           ┆ enter    │\n│           ┆           ┆           ┆           ┆   ┆ , related ┆           ┆           ┆ brain    │\n│           ┆           ┆           ┆           ┆   ┆ diseases, ┆           ┆           ┆ parenchy │\n│           ┆           ┆           ┆           ┆   ┆ affecting ┆           ┆           ┆ ma and   │\n│           ┆           ┆           ┆           ┆   ┆ factors,  ┆           ┆           ┆ exchange │\n│           ┆           ┆           ┆           ┆   ┆ and precl ┆           ┆           ┆ with     │\n│           ┆           ┆           ┆           ┆   ┆ inical    ┆           ┆           ┆ brain    │\n│           ┆           ┆           ┆           ┆   ┆ research  ┆           ┆           ┆ intersti │\n│           ┆           ┆           ┆           ┆   ┆ methods   ┆           ┆           ┆ tial     │\n│           ┆           ┆           ┆           ┆   ┆ of the    ┆           ┆           ┆ fluid    │\n│           ┆           ┆           ┆           ┆   ┆ glymphati ┆           ┆           ┆ (ISF) in │\n│           ┆           ┆           ┆           ┆   ┆ c system. ┆           ┆           ┆ the      │\n│           ┆           ┆           ┆           ┆   ┆ In doing  ┆           ┆           ┆ presence │\n│           ┆           ┆           ┆           ┆   ┆ so, we    ┆           ┆           ┆ of aquap │\n│           ┆           ┆           ┆           ┆   ┆ aim to    ┆           ┆           ┆ orin-4   │\n│           ┆           ┆           ┆           ┆   ┆ provide   ┆           ┆           ┆ (AQP4)   │\n│           ┆           ┆           ┆           ┆   ┆ direction ┆           ┆           ┆ on astro │\n│           ┆           ┆           ┆           ┆   ┆ and       ┆           ┆           ┆ cytes.   │\n│           ┆           ┆           ┆           ┆   ┆ reference ┆           ┆           ┆ Likewise │\n│           ┆           ┆           ┆           ┆   ┆ for more  ┆           ┆           ┆ , when   │\n│           ┆           ┆           ┆           ┆   ┆ relevant  ┆           ┆           ┆ the      │\n│           ┆           ┆           ┆           ┆   ┆ researche ┆           ┆           ┆ mixed    │\n│           ┆           ┆           ┆           ┆   ┆ rs in the ┆           ┆           ┆ fluid    │\n│           ┆           ┆           ┆           ┆   ┆ future.\"] ┆           ┆           ┆ was      │\n│           ┆           ┆           ┆           ┆   ┆           ┆           ┆           ┆ drained  │\n│           ┆           ┆           ┆           ┆   ┆           ┆           ┆           ┆ from the │\n│           ┆           ┆           ┆           ┆   ┆           ┆           ┆           ┆ brain,   │\n│           ┆           ┆           ┆           ┆   ┆           ┆           ┆           ┆ Amyloid- │\n│           ┆           ┆           ┆           ┆   ┆           ┆           ┆           ┆ β (Aβ)   │\n│           ┆           ┆           ┆           ┆   ┆           ┆           ┆           ┆ was tran │\n│           ┆           ┆           ┆           ┆   ┆           ┆           ┆           ┆ sported  │\n│           ┆           ┆           ┆           ┆   ┆           ┆           ┆           ┆ along    │\n│           ┆           ┆           ┆           ┆   ┆           ┆           ┆           ┆ with the │\n│           ┆           ┆           ┆           ┆   ┆           ┆           ┆           ┆ outflow. │\n│           ┆           ┆           ┆           ┆   ┆           ┆           ┆           ┆ Since    │\n│           ┆           ┆           ┆           ┆   ┆           ┆           ┆           ┆ the      │\n│           ┆           ┆           ┆           ┆   ┆           ┆           ┆           ┆ function │\n│           ┆           ┆           ┆           ┆   ┆           ┆           ┆           ┆ of this  │\n│           ┆           ┆           ┆           ┆   ┆           ┆           ┆           ┆ \"drainag │\n│           ┆           ┆           ┆           ┆   ┆           ┆           ┆           ┆ e\"       │\n│           ┆           ┆           ┆           ┆   ┆           ┆           ┆           ┆ pathway  │\n│           ┆           ┆           ┆           ┆   ┆           ┆           ┆           ┆ is       │\n│           ┆           ┆           ┆           ┆   ┆           ┆           ┆           ┆ similar  │\n│           ┆           ┆           ┆           ┆   ┆           ┆           ┆           ┆ to that  │\n│           ┆           ┆           ┆           ┆   ┆           ┆           ┆           ┆ of the   │\n│           ┆           ┆           ┆           ┆   ┆           ┆           ┆           ┆ lymphati │\n│           ┆           ┆           ┆           ┆   ┆           ┆           ┆           ┆ c system │\n│           ┆           ┆           ┆           ┆   ┆           ┆           ┆           ┆ and supp │\n│           ┆           ┆           ┆           ┆   ┆           ┆           ┆           ┆ orted by │\n│           ┆           ┆           ┆           ┆   ┆           ┆           ┆           ┆ astrocyt │\n│           ┆           ┆           ┆           ┆   ┆           ┆           ┆           ┆ es, it   │\n│           ┆           ┆           ┆           ┆   ┆           ┆           ┆           ┆ was      │\n│           ┆           ┆           ┆           ┆   ┆           ┆           ┆           ┆ named    │\n│           ┆           ┆           ┆           ┆   ┆           ┆           ┆           ┆ the glym │\n│           ┆           ┆           ┆           ┆   ┆           ┆           ┆           ┆ phatic   │\n│           ┆           ┆           ┆           ┆   ┆           ┆           ┆           ┆ system   │\n│           ┆           ┆           ┆           ┆   ┆           ┆           ┆           ┆ sooner   │\n│           ┆           ┆           ┆           ┆   ┆           ┆           ┆           ┆ after    │\n│           ┆           ┆           ┆           ┆   ┆           ┆           ┆           ┆ glia     │\n│           ┆           ┆           ┆           ┆   ┆           ┆           ┆           ┆ (Jessen  │\n│           ┆           ┆           ┆           ┆   ┆           ┆           ┆           ┆ et al.,  │\n│           ┆           ┆           ┆           ┆   ┆           ┆           ┆           ┆ 2015).\", │\n│           ┆           ┆           ┆           ┆   ┆           ┆           ┆           ┆ \"Since   │\n│           ┆           ┆           ┆           ┆   ┆           ┆           ┆           ┆ last     │\n│           ┆           ┆           ┆           ┆   ┆           ┆           ┆           ┆ decade,  │\n│           ┆           ┆           ┆           ┆   ┆           ┆           ┆           ┆ many res │\n│           ┆           ┆           ┆           ┆   ┆           ┆           ┆           ┆ earchers │\n│           ┆           ┆           ┆           ┆   ┆           ┆           ┆           ┆ in the   │\n│           ┆           ┆           ┆           ┆   ┆           ┆           ┆           ┆ field of │\n│           ┆           ┆           ┆           ┆   ┆           ┆           ┆           ┆ neurolog │\n│           ┆           ┆           ┆           ┆   ┆           ┆           ┆           ┆ y, neuro │\n│           ┆           ┆           ┆           ┆   ┆           ┆           ┆           ┆ degenera │\n│           ┆           ┆           ┆           ┆   ┆           ┆           ┆           ┆ tive     │\n│           ┆           ┆           ┆           ┆   ┆           ┆           ┆           ┆ diseases │\n│           ┆           ┆           ┆           ┆   ┆           ┆           ┆           ┆ and phys │\n│           ┆           ┆           ┆           ┆   ┆           ┆           ┆           ┆ iology   │\n│           ┆           ┆           ┆           ┆   ┆           ┆           ┆           ┆ have     │\n│           ┆           ┆           ┆           ┆   ┆           ┆           ┆           ┆ aimed to │\n│           ┆           ┆           ┆           ┆   ┆           ┆           ┆           ┆ study    │\n│           ┆           ┆           ┆           ┆   ┆           ┆           ┆           ┆ and      │\n│           ┆           ┆           ┆           ┆   ┆           ┆           ┆           ┆ develop  │\n│           ┆           ┆           ┆           ┆   ┆           ┆           ┆           ┆ the glym │\n│           ┆           ┆           ┆           ┆   ┆           ┆           ┆           ┆ phatic   │\n│           ┆           ┆           ┆           ┆   ┆           ┆           ┆           ┆ system,  │\n│           ┆           ┆           ┆           ┆   ┆           ┆           ┆           ┆ providin │\n│           ┆           ┆           ┆           ┆   ┆           ┆           ┆           ┆ g a      │\n│           ┆           ┆           ┆           ┆   ┆           ┆           ┆           ┆ brandnew │\n│           ┆           ┆           ┆           ┆   ┆           ┆           ┆           ┆ perspect │\n│           ┆           ┆           ┆           ┆   ┆           ┆           ┆           ┆ ive for  │\n│           ┆           ┆           ┆           ┆   ┆           ┆           ┆           ┆ us to    │\n│           ┆           ┆           ┆           ┆   ┆           ┆           ┆           ┆ understa │\n│           ┆           ┆           ┆           ┆   ┆           ┆           ┆           ┆ nd brain │\n│           ┆           ┆           ┆           ┆   ┆           ┆           ┆           ┆ diseases │\n│           ┆           ┆           ┆           ┆   ┆           ┆           ┆           ┆ : the    │\n│           ┆           ┆           ┆           ┆   ┆           ┆           ┆           ┆ overall  │\n│           ┆           ┆           ┆           ┆   ┆           ┆           ┆           ┆ fluid    │\n│           ┆           ┆           ┆           ┆   ┆           ┆           ┆           ┆ flow of  │\n│           ┆           ┆           ┆           ┆   ┆           ┆           ┆           ┆ the      │\n│           ┆           ┆           ┆           ┆   ┆           ┆           ┆           ┆ brain    │\n│           ┆           ┆           ┆           ┆   ┆           ┆           ┆           ┆ rather   │\n│           ┆           ┆           ┆           ┆   ┆           ┆           ┆           ┆ than a   │\n│           ┆           ┆           ┆           ┆   ┆           ┆           ┆           ┆ specific │\n│           ┆           ┆           ┆           ┆   ┆           ┆           ┆           ┆ lesion   │\n│           ┆           ┆           ┆           ┆   ┆           ┆           ┆           ┆ or struc │\n│           ┆           ┆           ┆           ┆   ┆           ┆           ┆           ┆ ture.    │\n│           ┆           ┆           ┆           ┆   ┆           ┆           ┆           ┆ Herein,  │\n│           ┆           ┆           ┆           ┆   ┆           ┆           ┆           ┆ we summa │\n│           ┆           ┆           ┆           ┆   ┆           ┆           ┆           ┆ rized    │\n│           ┆           ┆           ┆           ┆   ┆           ┆           ┆           ┆ the comp │\n│           ┆           ┆           ┆           ┆   ┆           ┆           ┆           ┆ onents   │\n│           ┆           ┆           ┆           ┆   ┆           ┆           ┆           ┆ of the   │\n│           ┆           ┆           ┆           ┆   ┆           ┆           ┆           ┆ glymphat │\n│           ┆           ┆           ┆           ┆   ┆           ┆           ┆           ┆ ic       │\n│           ┆           ┆           ┆           ┆   ┆           ┆           ┆           ┆ system,  │\n│           ┆           ┆           ┆           ┆   ┆           ┆           ┆           ┆ the      │\n│           ┆           ┆           ┆           ┆   ┆           ┆           ┆           ┆ fluid    │\n│           ┆           ┆           ┆           ┆   ┆           ┆           ┆           ┆ circulat │\n│           ┆           ┆           ┆           ┆   ┆           ┆           ┆           ┆ ion mode │\n│           ┆           ┆           ┆           ┆   ┆           ┆           ┆           ┆ within   │\n│           ┆           ┆           ┆           ┆   ┆           ┆           ┆           ┆ this     │\n│           ┆           ┆           ┆           ┆   ┆           ┆           ┆           ┆ system,  │\n│           ┆           ┆           ┆           ┆   ┆           ┆           ┆           ┆ how path │\n│           ┆           ┆           ┆           ┆   ┆           ┆           ┆           ┆ ogenic   │\n│           ┆           ┆           ┆           ┆   ┆           ┆           ┆           ┆ solutes  │\n│           ┆           ┆           ┆           ┆   ┆           ┆           ┆           ┆ are tran │\n│           ┆           ┆           ┆           ┆   ┆           ┆           ┆           ┆ sported  │\n│           ┆           ┆           ┆           ┆   ┆           ┆           ┆           ┆ in       │\n│           ┆           ┆           ┆           ┆   ┆           ┆           ┆           ┆ certain  │\n│           ┆           ┆           ┆           ┆   ┆           ┆           ┆           ┆ diseases │\n│           ┆           ┆           ┆           ┆   ┆           ┆           ┆           ┆ , affect │\n│           ┆           ┆           ┆           ┆   ┆           ┆           ┆           ┆ ing      │\n│           ┆           ┆           ┆           ┆   ┆           ┆           ┆           ┆ factors  │\n│           ┆           ┆           ┆           ┆   ┆           ┆           ┆           ┆ of its   │\n│           ┆           ┆           ┆           ┆   ┆           ┆           ┆           ┆ function │\n│           ┆           ┆           ┆           ┆   ┆           ┆           ┆           ┆ , and by │\n│           ┆           ┆           ┆           ┆   ┆           ┆           ┆           ┆ what     │\n│           ┆           ┆           ┆           ┆   ┆           ┆           ┆           ┆ means we │\n│           ┆           ┆           ┆           ┆   ┆           ┆           ┆           ┆ can      │\n│           ┆           ┆           ┆           ┆   ┆           ┆           ┆           ┆ study    │\n│           ┆           ┆           ┆           ┆   ┆           ┆           ┆           ┆ the glym │\n│           ┆           ┆           ┆           ┆   ┆           ┆           ┆           ┆ phatic   │\n│           ┆           ┆           ┆           ┆   ┆           ┆           ┆           ┆ system.  │\n│           ┆           ┆           ┆           ┆   ┆           ┆           ┆           ┆ All      │\n│           ┆           ┆           ┆           ┆   ┆           ┆           ┆           ┆ above    │\n│           ┆           ┆           ┆           ┆   ┆           ┆           ┆           ┆ may      │\n│           ┆           ┆           ┆           ┆   ┆           ┆           ┆           ┆ provide  │\n│           ┆           ┆           ┆           ┆   ┆           ┆           ┆           ┆ directio │\n│           ┆           ┆           ┆           ┆   ┆           ┆           ┆           ┆ n and    │\n│           ┆           ┆           ┆           ┆   ┆           ┆           ┆           ┆ referenc │\n│           ┆           ┆           ┆           ┆   ┆           ┆           ┆           ┆ e for    │\n│           ┆           ┆           ┆           ┆   ┆           ┆           ┆           ┆ brain    │\n│           ┆           ┆           ┆           ┆   ┆           ┆           ┆           ┆ diseases │\n│           ┆           ┆           ┆           ┆   ┆           ┆           ┆           ┆ and      │\n│           ┆           ┆           ┆           ┆   ┆           ┆           ┆           ┆ medical  │\n│           ┆           ┆           ┆           ┆   ┆           ┆           ┆           ┆ research │\n│           ┆           ┆           ┆           ┆   ┆           ┆           ┆           ┆ ers.\", … │\n│           ┆           ┆           ┆           ┆   ┆           ┆           ┆           ┆ \"This    │\n│           ┆           ┆           ┆           ┆   ┆           ┆           ┆           ┆ work was │\n│           ┆           ┆           ┆           ┆   ┆           ┆           ┆           ┆ supporte │\n│           ┆           ┆           ┆           ┆   ┆           ┆           ┆           ┆ d by the │\n│           ┆           ┆           ┆           ┆   ┆           ┆           ┆           ┆ Funds of │\n│           ┆           ┆           ┆           ┆   ┆           ┆           ┆           ┆ the scie │\n│           ┆           ┆           ┆           ┆   ┆           ┆           ┆           ┆ ntific   │\n│           ┆           ┆           ┆           ┆   ┆           ┆           ┆           ┆ and tech │\n│           ┆           ┆           ┆           ┆   ┆           ┆           ┆           ┆ nologica │\n│           ┆           ┆           ┆           ┆   ┆           ┆           ┆           ┆ l innova │\n│           ┆           ┆           ┆           ┆   ┆           ┆           ┆           ┆ tion     │\n│           ┆           ┆           ┆           ┆   ┆           ┆           ┆           ┆ project  │\n│           ┆           ┆           ┆           ┆   ┆           ┆           ┆           ┆ of the   │\n│           ┆           ┆           ┆           ┆   ┆           ┆           ┆           ┆ Chinese  │\n│           ┆           ┆           ┆           ┆   ┆           ┆           ┆           ┆ Academy  │\n│           ┆           ┆           ┆           ┆   ┆           ┆           ┆           ┆ of Tradi │\n│           ┆           ┆           ┆           ┆   ┆           ┆           ┆           ┆ tional   │\n│           ┆           ┆           ┆           ┆   ┆           ┆           ┆           ┆ Chinese  │\n│           ┆           ┆           ┆           ┆   ┆           ┆           ┆           ┆ Medicine │\n│           ┆           ┆           ┆           ┆   ┆           ┆           ┆           ┆ CI2021A0 │\n│           ┆           ┆           ┆           ┆   ┆           ┆           ┆           ┆ 4614.\"]  │\n└───────────┴───────────┴───────────┴───────────┴───┴───────────┴───────────┴───────────┴──────────┘",
      "text/html": "<div><style>\n.dataframe > thead > tr > th,\n.dataframe > tbody > tr > td {\n  text-align: right;\n}\n</style>\n<small>shape: (1, 9)</small><table border=\"1\" class=\"dataframe\"><thead><tr><th>corpusid</th><th>content_source_oainfo_openaccessurl</th><th>updated</th><th>externalids_doi</th><th>externalids_pubmed</th><th>annotations_abstract</th><th>annotations_author</th><th>annotations_title</th><th>annotations_paragraph</th></tr><tr><td>i64</td><td>str</td><td>str</td><td>str</td><td>str</td><td>list[str]</td><td>list[str]</td><td>list[str]</td><td>list[str]</td></tr></thead><tbody><tr><td>259168060</td><td>null</td><td>&quot;2023-07-04T07:35:35Z&quot;</td><td>&quot;10.3389/fnagi.2023.1179988&quot;</td><td>&quot;37396658&quot;</td><td>[&quot;Song W (2023) The glymphatic system: a new perspective on brain diseases.The glymphatic system is a brain-wide perivascular pathway driven by aquaporin-4 on the endfeet of astrocytes, which can deliver nutrients and active substances to the brain parenchyma through periarterial cerebrospinal fluid (CSF) influx pathway and remove metabolic wastes through perivenous clearance routes. This paper summarizes the composition, overall fluid flow, solute transport, related diseases, affecting factors, and preclinical research methods of the glymphatic system. In doing so, we aim to provide direction and reference for more relevant researchers in the future.&quot;]</td><td>[&quot;Alexey Moskalev &quot;, &quot;Claudio Nicoletti &quot;, … &quot;\nUniversity of Pittsburgh\nUnited States\n&quot;]</td><td>[&quot;OPEN ACCESS EDITED BY The glymphatic system: a new perspective on brain diseases&quot;, &quot;OPEN ACCESS EDITED BY The glymphatic system: a new perspective on brain diseases&quot;]</td><td>[&quot;It is traditionally believed that the lymphatic system doesn&#x27;t exist in the central nervous system (Nedergaard and Goldman, 2016). Thus, cell debris, potential neurotoxic proteins, and other metabolites with large molecular weight are considered to be removed in a different clearance pathway than brain vasculature. In 2012, the Nedergaard (Iliff et al., 2012) group found that cerebrospinal fluid (CSF) can enter brain parenchyma and exchange with brain interstitial fluid (ISF) in the presence of aquaporin-4 (AQP4) on astrocytes. Likewise, when the mixed fluid was drained from the brain, Amyloid-β (Aβ) was transported along with the outflow. Since the function of this &quot;drainage&quot; pathway is similar to that of the lymphatic system and supported by astrocytes, it was named the glymphatic system sooner after glia (Jessen et al., 2015).&quot;, &quot;Since last decade, many researchers in the field of neurology, neurodegenerative diseases and physiology have aimed to study and develop the glymphatic system, providing a brandnew perspective for us to understand brain diseases: the overall fluid flow of the brain rather than a specific lesion or structure. Herein, we summarized the components of the glymphatic system, the fluid circulation mode within this system, how pathogenic solutes are transported in certain diseases, affecting factors of its function, and by what means we can study the glymphatic system. All above may provide direction and reference for brain diseases and medical researchers.&quot;, … &quot;This work was supported by the Funds of the scientific and technological innovation project of the Chinese Academy of Traditional Chinese Medicine CI2021A04614.&quot;]</td></tr></tbody></table></div>"
     },
     "execution_count": 4,
     "metadata": {},
     "output_type": "execute_result"
    }
   ],
   "source": [
    "moskalev = Paperset(\"longevity-genie/moskalev_papers\", splitter=splitter)\n",
    "moskalev.lazy_frame.collect().head(1)"
   ],
   "metadata": {
    "collapsed": false,
    "ExecuteTime": {
     "end_time": "2023-08-06T11:25:22.316466687Z",
     "start_time": "2023-08-06T11:25:19.675169143Z"
    }
   }
  },
  {
   "cell_type": "markdown",
   "source": [
    "Indexing\n",
    "========\n",
    "To avoid memory overflow we index everything by slices"
   ],
   "metadata": {
    "collapsed": false
   }
  },
  {
   "cell_type": "code",
   "execution_count": 8,
   "outputs": [
    {
     "name": "stderr",
     "output_type": "stream",
     "text": [
      "2023-08-06 14:33:01.672 | INFO     | indexpaper.paperset:index_fun:168 - indexed 0 + 10 * 792 documents with last document having 10.3389/fphar.2016.00505\n",
      "2023-08-06 14:35:12.323 | INFO     | indexpaper.paperset:index_fun:168 - indexed 0 + 10 * 508 documents with last document having 10.3389/fgene.2015.00353\n",
      "2023-08-06 14:38:44.692 | INFO     | indexpaper.paperset:index_fun:168 - indexed 0 + 10 * 858 documents with last document having 10.18632/oncotarget.24461\n",
      "2023-08-06 14:41:27.001 | INFO     | indexpaper.paperset:index_fun:168 - indexed 0 + 10 * 579 documents with last document having 10.3389/fgene.2019.00303\n",
      "2023-08-06 14:43:45.845 | INFO     | indexpaper.paperset:index_fun:168 - indexed 0 + 10 * 561 documents with last document having 10.3389/fgene.2018.00095\n",
      "2023-08-06 14:47:41.329 | INFO     | indexpaper.paperset:index_fun:168 - indexed 0 + 10 * 803 documents with last document having 10.3389/fmed.2020.00371\n",
      "2023-08-06 14:50:21.931 | INFO     | indexpaper.paperset:index_fun:168 - indexed 0 + 10 * 667 documents with last document having 10.1186/s12863-016-0459-1\n",
      "2023-08-06 14:53:01.416 | INFO     | indexpaper.paperset:index_fun:168 - indexed 0 + 10 * 682 documents with last document having 10.3390/antiox9060529\n",
      "2023-08-06 14:55:48.254 | INFO     | indexpaper.paperset:index_fun:168 - indexed 0 + 10 * 781 documents with last document having 10.3389/fgene.2015.00184\n",
      "2023-08-06 14:58:12.882 | INFO     | indexpaper.paperset:index_fun:168 - indexed 0 + 10 * 637 documents with last document having 10.3389/fgene.2015.00202\n"
     ]
    }
   ],
   "source": [
    "moskalev.index_by_slices(10, db, 0)"
   ],
   "metadata": {
    "collapsed": false,
    "ExecuteTime": {
     "end_time": "2023-08-06T11:58:12.930574233Z",
     "start_time": "2023-08-06T11:29:30.019455555Z"
    }
   }
  },
  {
   "cell_type": "code",
   "execution_count": 9,
   "outputs": [],
   "source": [
    "# Testing index\n"
   ],
   "metadata": {
    "collapsed": false,
    "ExecuteTime": {
     "end_time": "2023-08-06T12:39:30.888141717Z",
     "start_time": "2023-08-06T12:39:30.708993348Z"
    }
   }
  },
  {
   "cell_type": "code",
   "execution_count": 17,
   "outputs": [
    {
     "data": {
      "text/plain": "'proteins: p65 (RelA), RelB, c-Rel, p105/p50 (NF-κB1), and p100/52 (NF-κB2), which associate with each other to form distinct active NF-κB dimers. In the cytosol, NF-κB dimers in inactive form anchored by IκB are found. There are two ways to activate the NF-kB-induced gene transcription. These are triggered by cytokines TNFα and IL-1 (canonical signaling) or antigen receptors CD40 and BAFF (non-canonical/alternative signaling). There are the activation of IKK complex (IKKα, IKKβ, and IKKγ) and the phosphorylation of IκB proteins, which are in interaction with'"
     },
     "execution_count": 17,
     "metadata": {},
     "output_type": "execute_result"
    }
   ],
   "source": [
    "db.similarity_search(\"IKK-β activation \")[0].page_content"
   ],
   "metadata": {
    "collapsed": false,
    "ExecuteTime": {
     "end_time": "2023-08-06T12:41:43.302063403Z",
     "start_time": "2023-08-06T12:41:43.202131762Z"
    }
   }
  },
  {
   "cell_type": "code",
   "execution_count": null,
   "outputs": [],
   "source": [],
   "metadata": {
    "collapsed": false
   }
  }
 ],
 "metadata": {
  "kernelspec": {
   "display_name": "Python 3 (ipykernel)",
   "language": "python",
   "name": "python3"
  },
  "language_info": {
   "codemirror_mode": {
    "name": "ipython",
    "version": 3
   },
   "file_extension": ".py",
   "mimetype": "text/x-python",
   "name": "python",
   "nbconvert_exporter": "python",
   "pygments_lexer": "ipython3",
   "version": "3.10.12"
  }
 },
 "nbformat": 4,
 "nbformat_minor": 4
}
