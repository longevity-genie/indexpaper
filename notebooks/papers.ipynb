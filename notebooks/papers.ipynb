{
 "cells": [
  {
   "cell_type": "markdown",
   "source": [
    "Indexing dataset\n",
    "================"
   ],
   "metadata": {
    "collapsed": false
   }
  },
  {
   "cell_type": "code",
   "execution_count": 1,
   "outputs": [
    {
     "name": "stdout",
     "output_type": "stream",
     "text": [
      "extending pathes with local indexpaper\n",
      "['..', '/home/antonkulaga/sources/indexpaper/notebooks', '/home/antonkulaga/sources/indexpaper', '/home/antonkulaga/micromamba/envs/indexpaper/lib/python310.zip', '/home/antonkulaga/micromamba/envs/indexpaper/lib/python3.10', '/home/antonkulaga/micromamba/envs/indexpaper/lib/python3.10/lib-dynload', '', '/home/antonkulaga/.local/lib/python3.10/site-packages', '/home/antonkulaga/micromamba/envs/indexpaper/lib/python3.10/site-packages']\n"
     ]
    }
   ],
   "source": [
    "from pathlib import Path\n",
    "import sys\n",
    "debug_local = True#False\n",
    "local = (Path(\"..\") / \"indexpaper\").resolve()\n",
    "if debug_local and local.exists():\n",
    "  sys.path.insert(0, Path(\"..\").as_posix())\n",
    "  print(\"extending pathes with local indexpaper\")\n",
    "  print(sys.path)\n",
    "  %load_ext autoreload\n",
    "  %autoreload 2"
   ],
   "metadata": {
    "collapsed": false,
    "ExecuteTime": {
     "end_time": "2023-08-22T21:05:16.529822967Z",
     "start_time": "2023-08-22T21:05:16.529144158Z"
    }
   }
  },
  {
   "cell_type": "code",
   "execution_count": 2,
   "metadata": {
    "ExecuteTime": {
     "end_time": "2023-08-22T21:05:20.047296821Z",
     "start_time": "2023-08-22T21:05:17.235053982Z"
    }
   },
   "outputs": [
    {
     "name": "stderr",
     "output_type": "stream",
     "text": [
      "/home/antonkulaga/.local/lib/python3.10/site-packages/beartype/_util/hint/pep/utilpeptest.py:311: BeartypeDecorHintPep585DeprecationWarning: PEP 484 type hint typing.Callable[[list], list] deprecated by PEP 585. This hint is scheduled for removal in the first Python version released after October 5th, 2025. To resolve this, import this hint from \"beartype.typing\" rather than \"typing\". For further commentary and alternatives, see also:\n",
      "    https://beartype.readthedocs.io/en/latest/api_roar/#pep-585-deprecations\n",
      "  warn(\n"
     ]
    },
    {
     "data": {
      "text/plain": "polars.config.Config"
     },
     "execution_count": 2,
     "metadata": {},
     "output_type": "execute_result"
    }
   ],
   "source": [
    "import polars as pl\n",
    "from indexpaper import index\n",
    "\n",
    "from pycomfort.files import *\n",
    "from typing import List\n",
    "from pathlib import Path\n",
    "from polars import Config\n",
    "Config.set_fmt_str_lengths(5000)"
   ]
  },
  {
   "cell_type": "code",
   "execution_count": 9,
   "outputs": [
    {
     "name": "stderr",
     "output_type": "stream",
     "text": [
      "No sentence-transformers model found with name /home/antonkulaga/.cache/torch/sentence_transformers/michiyasunaga_BioLinkBERT-large. Creating a new one with MEAN pooling.\n",
      "2023-08-23 00:40:06.328 | INFO     | indexpaper.indexing:init_qdrant:78 - initializing quadrant database at https://5bea7502-97d4-4876-98af-0cdf8af4bd18.us-east-1-0.aws.cloud.qdrant.io:6333/\n"
     ]
    },
    {
     "name": "stdout",
     "output_type": "stream",
     "text": [
      "/home/antonkulaga/sources/indexpaper/.env\n",
      "environment found at /home/antonkulaga/sources/indexpaper/.env\n"
     ]
    }
   ],
   "source": [
    "from pycomfort.config import load_environment_keys\n",
    "from indexpaper.paperset import Paperset\n",
    "from indexpaper.resolvers import *\n",
    "\n",
    "chunk_size = 512\n",
    "embeddings, splitter = resolve_embedding_splitter(EmbeddingType.HuggingFace, EmbeddingModels.biolinkbert.value, chunk_size=chunk_size)\n",
    "from indexpaper.indexing import init_qdrant\n",
    "load_environment_keys(usecwd=True)\n",
    "api_key = os.getenv(\"QDRANT_KEY\")\n",
    "db = init_qdrant(\"biolinkbert_large_512_tacutu_papers\", \n",
    "                 path_or_url=\"https://5bea7502-97d4-4876-98af-0cdf8af4bd18.us-east-1-0.aws.cloud.qdrant.io:6333/\", \n",
    "                 embeddings=embeddings, always_recreate=False,\n",
    "                 api_key=api_key\n",
    "                 )"
   ],
   "metadata": {
    "collapsed": false,
    "ExecuteTime": {
     "end_time": "2023-08-22T21:40:07.011645812Z",
     "start_time": "2023-08-22T21:40:01.388386827Z"
    }
   }
  },
  {
   "cell_type": "code",
   "execution_count": 10,
   "outputs": [
    {
     "data": {
      "text/plain": "CollectionInfo(status=<CollectionStatus.GREEN: 'green'>, optimizer_status=<OptimizersStatusOneOf.OK: 'ok'>, vectors_count=39, indexed_vectors_count=0, points_count=39, segments_count=2, config=CollectionConfig(params=CollectionParams(vectors=VectorParams(size=1024, distance=<Distance.COSINE: 'Cosine'>, hnsw_config=None, quantization_config=None, on_disk=None), shard_number=1, replication_factor=1, write_consistency_factor=1, on_disk_payload=True), hnsw_config=HnswConfig(m=16, ef_construct=100, full_scan_threshold=10000, max_indexing_threads=0, on_disk=False, payload_m=None), optimizer_config=OptimizersConfig(deleted_threshold=0.2, vacuum_min_vector_number=1000, default_segment_number=0, max_segment_size=None, memmap_threshold=None, indexing_threshold=20000, flush_interval_sec=5, max_optimization_threads=1), wal_config=WalConfig(wal_capacity_mb=32, wal_segments_ahead=0), quantization_config=None), payload_schema={'pubmed': PayloadIndexInfo(data_type=<PayloadSchemaType.TEXT: 'text'>, params=None, points=0), 'source': PayloadIndexInfo(data_type=<PayloadSchemaType.TEXT: 'text'>, params=None, points=0), 'doi': PayloadIndexInfo(data_type=<PayloadSchemaType.TEXT: 'text'>, params=None, points=0)})"
     },
     "execution_count": 10,
     "metadata": {},
     "output_type": "execute_result"
    }
   ],
   "source": [
    "col = db.client.get_collection(\"biolinkbert_large_512_tacutu_papers\")\n",
    "col"
   ],
   "metadata": {
    "collapsed": false,
    "ExecuteTime": {
     "end_time": "2023-08-22T21:40:14.900403227Z",
     "start_time": "2023-08-22T21:40:14.162282517Z"
    }
   }
  },
  {
   "cell_type": "code",
   "execution_count": 24,
   "outputs": [
    {
     "ename": "ValidationError",
     "evalue": "1 validation error for SearchRequest\nvector\n  none is not an allowed value (type=type_error.none.not_allowed)",
     "output_type": "error",
     "traceback": [
      "\u001B[0;31m---------------------------------------------------------------------------\u001B[0m",
      "\u001B[0;31mValidationError\u001B[0m                           Traceback (most recent call last)",
      "Cell \u001B[0;32mIn[24], line 3\u001B[0m\n\u001B[1;32m      1\u001B[0m \u001B[38;5;28;01mfrom\u001B[39;00m \u001B[38;5;21;01mqdrant_client\u001B[39;00m\u001B[38;5;21;01m.\u001B[39;00m\u001B[38;5;21;01mhttp\u001B[39;00m\u001B[38;5;21;01m.\u001B[39;00m\u001B[38;5;21;01mmodels\u001B[39;00m \u001B[38;5;28;01mimport\u001B[39;00m \u001B[38;5;241m*\u001B[39m\n\u001B[1;32m      2\u001B[0m \u001B[38;5;28;01mfrom\u001B[39;00m \u001B[38;5;21;01mtyping\u001B[39;00m \u001B[38;5;28;01mimport\u001B[39;00m Union\n\u001B[0;32m----> 3\u001B[0m \u001B[43mdb\u001B[49m\u001B[38;5;241;43m.\u001B[39;49m\u001B[43mclient\u001B[49m\u001B[38;5;241;43m.\u001B[39;49m\u001B[43msearch\u001B[49m\u001B[43m(\u001B[49m\u001B[38;5;124;43m\"\u001B[39;49m\u001B[38;5;124;43mbiolinkbert_large_512_tacutu_papers\u001B[39;49m\u001B[38;5;124;43m\"\u001B[39;49m\u001B[43m,\u001B[49m\u001B[43m \u001B[49m\u001B[38;5;28;43;01mNone\u001B[39;49;00m\u001B[43m,\u001B[49m\n\u001B[1;32m      4\u001B[0m \u001B[43m    \u001B[49m\u001B[43mFilter\u001B[49m\u001B[43m(\u001B[49m\n\u001B[1;32m      5\u001B[0m \u001B[43m    \u001B[49m\u001B[43mmust\u001B[49m\u001B[38;5;241;43m=\u001B[39;49m\u001B[43m[\u001B[49m\n\u001B[1;32m      6\u001B[0m \u001B[43m        \u001B[49m\u001B[43mFieldCondition\u001B[49m\u001B[43m(\u001B[49m\n\u001B[1;32m      7\u001B[0m \u001B[43m            \u001B[49m\u001B[43mkey\u001B[49m\u001B[38;5;241;43m=\u001B[39;49m\u001B[38;5;124;43m'\u001B[39;49m\u001B[38;5;124;43mdoi\u001B[39;49m\u001B[38;5;124;43m'\u001B[39;49m\u001B[43m,\u001B[49m\n\u001B[1;32m      8\u001B[0m \u001B[43m            \u001B[49m\u001B[43mmatch\u001B[49m\u001B[38;5;241;43m=\u001B[39;49m\u001B[43mMatchValue\u001B[49m\u001B[43m(\u001B[49m\u001B[43mvalue\u001B[49m\u001B[43m \u001B[49m\u001B[38;5;241;43m=\u001B[39;49m\u001B[43m \u001B[49m\u001B[38;5;124;43m\"\u001B[39;49m\u001B[38;5;124;43m10.1186/s13059-020-01990-9\u001B[39;49m\u001B[38;5;124;43m\"\u001B[39;49m\u001B[43m)\u001B[49m\n\u001B[1;32m      9\u001B[0m \u001B[43m        \u001B[49m\u001B[43m)\u001B[49m\n\u001B[1;32m     10\u001B[0m \u001B[43m    \u001B[49m\u001B[43m]\u001B[49m\n\u001B[1;32m     11\u001B[0m \u001B[43m)\u001B[49m\u001B[43m)\u001B[49m\n",
      "File \u001B[0;32m~/.local/lib/python3.10/site-packages/qdrant_client/qdrant_client.py:298\u001B[0m, in \u001B[0;36mQdrantClient.search\u001B[0;34m(self, collection_name, query_vector, query_filter, search_params, limit, offset, with_payload, with_vectors, score_threshold, append_payload, consistency, **kwargs)\u001B[0m\n\u001B[1;32m    232\u001B[0m \u001B[38;5;250m\u001B[39m\u001B[38;5;124;03m\"\"\"Search for closest vectors in collection taking into account filtering conditions\u001B[39;00m\n\u001B[1;32m    233\u001B[0m \n\u001B[1;32m    234\u001B[0m \u001B[38;5;124;03mArgs:\u001B[39;00m\n\u001B[0;32m   (...)\u001B[0m\n\u001B[1;32m    294\u001B[0m \u001B[38;5;124;03m    List of found close points with similarity scores.\u001B[39;00m\n\u001B[1;32m    295\u001B[0m \u001B[38;5;124;03m\"\"\"\u001B[39;00m\n\u001B[1;32m    296\u001B[0m \u001B[38;5;28;01massert\u001B[39;00m \u001B[38;5;28mlen\u001B[39m(kwargs) \u001B[38;5;241m==\u001B[39m \u001B[38;5;241m0\u001B[39m, \u001B[38;5;124mf\u001B[39m\u001B[38;5;124m\"\u001B[39m\u001B[38;5;124mUnknown arguments: \u001B[39m\u001B[38;5;132;01m{\u001B[39;00m\u001B[38;5;28mlist\u001B[39m(kwargs\u001B[38;5;241m.\u001B[39mkeys())\u001B[38;5;132;01m}\u001B[39;00m\u001B[38;5;124m\"\u001B[39m\n\u001B[0;32m--> 298\u001B[0m \u001B[38;5;28;01mreturn\u001B[39;00m \u001B[38;5;28;43mself\u001B[39;49m\u001B[38;5;241;43m.\u001B[39;49m\u001B[43m_client\u001B[49m\u001B[38;5;241;43m.\u001B[39;49m\u001B[43msearch\u001B[49m\u001B[43m(\u001B[49m\n\u001B[1;32m    299\u001B[0m \u001B[43m    \u001B[49m\u001B[43mcollection_name\u001B[49m\u001B[38;5;241;43m=\u001B[39;49m\u001B[43mcollection_name\u001B[49m\u001B[43m,\u001B[49m\n\u001B[1;32m    300\u001B[0m \u001B[43m    \u001B[49m\u001B[43mquery_vector\u001B[49m\u001B[38;5;241;43m=\u001B[39;49m\u001B[43mquery_vector\u001B[49m\u001B[43m,\u001B[49m\n\u001B[1;32m    301\u001B[0m \u001B[43m    \u001B[49m\u001B[43mquery_filter\u001B[49m\u001B[38;5;241;43m=\u001B[39;49m\u001B[43mquery_filter\u001B[49m\u001B[43m,\u001B[49m\n\u001B[1;32m    302\u001B[0m \u001B[43m    \u001B[49m\u001B[43msearch_params\u001B[49m\u001B[38;5;241;43m=\u001B[39;49m\u001B[43msearch_params\u001B[49m\u001B[43m,\u001B[49m\n\u001B[1;32m    303\u001B[0m \u001B[43m    \u001B[49m\u001B[43mlimit\u001B[49m\u001B[38;5;241;43m=\u001B[39;49m\u001B[43mlimit\u001B[49m\u001B[43m,\u001B[49m\n\u001B[1;32m    304\u001B[0m \u001B[43m    \u001B[49m\u001B[43moffset\u001B[49m\u001B[38;5;241;43m=\u001B[39;49m\u001B[43moffset\u001B[49m\u001B[43m,\u001B[49m\n\u001B[1;32m    305\u001B[0m \u001B[43m    \u001B[49m\u001B[43mwith_payload\u001B[49m\u001B[38;5;241;43m=\u001B[39;49m\u001B[43mwith_payload\u001B[49m\u001B[43m,\u001B[49m\n\u001B[1;32m    306\u001B[0m \u001B[43m    \u001B[49m\u001B[43mwith_vectors\u001B[49m\u001B[38;5;241;43m=\u001B[39;49m\u001B[43mwith_vectors\u001B[49m\u001B[43m,\u001B[49m\n\u001B[1;32m    307\u001B[0m \u001B[43m    \u001B[49m\u001B[43mscore_threshold\u001B[49m\u001B[38;5;241;43m=\u001B[39;49m\u001B[43mscore_threshold\u001B[49m\u001B[43m,\u001B[49m\n\u001B[1;32m    308\u001B[0m \u001B[43m    \u001B[49m\u001B[43mappend_payload\u001B[49m\u001B[38;5;241;43m=\u001B[39;49m\u001B[43mappend_payload\u001B[49m\u001B[43m,\u001B[49m\n\u001B[1;32m    309\u001B[0m \u001B[43m    \u001B[49m\u001B[43mconsistency\u001B[49m\u001B[38;5;241;43m=\u001B[39;49m\u001B[43mconsistency\u001B[49m\u001B[43m,\u001B[49m\n\u001B[1;32m    310\u001B[0m \u001B[43m    \u001B[49m\u001B[38;5;241;43m*\u001B[39;49m\u001B[38;5;241;43m*\u001B[39;49m\u001B[43mkwargs\u001B[49m\u001B[43m,\u001B[49m\n\u001B[1;32m    311\u001B[0m \u001B[43m\u001B[49m\u001B[43m)\u001B[49m\n",
      "File \u001B[0;32m~/.local/lib/python3.10/site-packages/qdrant_client/qdrant_remote.py:472\u001B[0m, in \u001B[0;36mQdrantRemote.search\u001B[0;34m(self, collection_name, query_vector, query_filter, search_params, limit, offset, with_payload, with_vectors, score_threshold, append_payload, consistency, **kwargs)\u001B[0m\n\u001B[1;32m    466\u001B[0m \u001B[38;5;28;01mif\u001B[39;00m \u001B[38;5;28misinstance\u001B[39m(with_payload, grpc\u001B[38;5;241m.\u001B[39mWithPayloadSelector):\n\u001B[1;32m    467\u001B[0m     with_payload \u001B[38;5;241m=\u001B[39m GrpcToRest\u001B[38;5;241m.\u001B[39mconvert_with_payload_selector(with_payload)\n\u001B[1;32m    469\u001B[0m search_result \u001B[38;5;241m=\u001B[39m \u001B[38;5;28mself\u001B[39m\u001B[38;5;241m.\u001B[39mhttp\u001B[38;5;241m.\u001B[39mpoints_api\u001B[38;5;241m.\u001B[39msearch_points(\n\u001B[1;32m    470\u001B[0m     collection_name\u001B[38;5;241m=\u001B[39mcollection_name,\n\u001B[1;32m    471\u001B[0m     consistency\u001B[38;5;241m=\u001B[39mconsistency,\n\u001B[0;32m--> 472\u001B[0m     search_request\u001B[38;5;241m=\u001B[39m\u001B[43mrest_models\u001B[49m\u001B[38;5;241;43m.\u001B[39;49m\u001B[43mSearchRequest\u001B[49m\u001B[43m(\u001B[49m\n\u001B[1;32m    473\u001B[0m \u001B[43m        \u001B[49m\u001B[43mvector\u001B[49m\u001B[38;5;241;43m=\u001B[39;49m\u001B[43mquery_vector\u001B[49m\u001B[43m,\u001B[49m\n\u001B[1;32m    474\u001B[0m \u001B[43m        \u001B[49m\u001B[38;5;28;43mfilter\u001B[39;49m\u001B[38;5;241;43m=\u001B[39;49m\u001B[43mquery_filter\u001B[49m\u001B[43m,\u001B[49m\n\u001B[1;32m    475\u001B[0m \u001B[43m        \u001B[49m\u001B[43mlimit\u001B[49m\u001B[38;5;241;43m=\u001B[39;49m\u001B[43mlimit\u001B[49m\u001B[43m,\u001B[49m\n\u001B[1;32m    476\u001B[0m \u001B[43m        \u001B[49m\u001B[43moffset\u001B[49m\u001B[38;5;241;43m=\u001B[39;49m\u001B[43moffset\u001B[49m\u001B[43m,\u001B[49m\n\u001B[1;32m    477\u001B[0m \u001B[43m        \u001B[49m\u001B[43mparams\u001B[49m\u001B[38;5;241;43m=\u001B[39;49m\u001B[43msearch_params\u001B[49m\u001B[43m,\u001B[49m\n\u001B[1;32m    478\u001B[0m \u001B[43m        \u001B[49m\u001B[43mwith_vector\u001B[49m\u001B[38;5;241;43m=\u001B[39;49m\u001B[43mwith_vectors\u001B[49m\u001B[43m,\u001B[49m\n\u001B[1;32m    479\u001B[0m \u001B[43m        \u001B[49m\u001B[43mwith_payload\u001B[49m\u001B[38;5;241;43m=\u001B[39;49m\u001B[43mwith_payload\u001B[49m\u001B[43m,\u001B[49m\n\u001B[1;32m    480\u001B[0m \u001B[43m        \u001B[49m\u001B[43mscore_threshold\u001B[49m\u001B[38;5;241;43m=\u001B[39;49m\u001B[43mscore_threshold\u001B[49m\u001B[43m,\u001B[49m\n\u001B[1;32m    481\u001B[0m \u001B[43m    \u001B[49m\u001B[43m)\u001B[49m,\n\u001B[1;32m    482\u001B[0m )\n\u001B[1;32m    483\u001B[0m result: Optional[List[types\u001B[38;5;241m.\u001B[39mScoredPoint]] \u001B[38;5;241m=\u001B[39m search_result\u001B[38;5;241m.\u001B[39mresult\n\u001B[1;32m    484\u001B[0m \u001B[38;5;28;01massert\u001B[39;00m result \u001B[38;5;129;01mis\u001B[39;00m \u001B[38;5;129;01mnot\u001B[39;00m \u001B[38;5;28;01mNone\u001B[39;00m, \u001B[38;5;124m\"\u001B[39m\u001B[38;5;124mSearch returned None\u001B[39m\u001B[38;5;124m\"\u001B[39m\n",
      "File \u001B[0;32m~/.local/lib/python3.10/site-packages/pydantic/main.py:341\u001B[0m, in \u001B[0;36mpydantic.main.BaseModel.__init__\u001B[0;34m()\u001B[0m\n",
      "\u001B[0;31mValidationError\u001B[0m: 1 validation error for SearchRequest\nvector\n  none is not an allowed value (type=type_error.none.not_allowed)"
     ]
    }
   ],
   "source": [
    "from qdrant_client.http.models import *\n",
    "from typing import Union\n",
    "#TODO: fix it does not work!\n",
    "db.client.search(\"biolinkbert_large_512_tacutu_papers\", None,\n",
    "    Filter(\n",
    "    must=[\n",
    "        FieldCondition(\n",
    "            key='doi',\n",
    "            match=MatchValue(value = \"10.1186/s13059-020-01990-9\")\n",
    "        )\n",
    "    ]\n",
    "))"
   ],
   "metadata": {
    "collapsed": false,
    "ExecuteTime": {
     "end_time": "2023-08-22T21:49:23.172591196Z",
     "start_time": "2023-08-22T21:49:23.063020418Z"
    }
   }
  },
  {
   "cell_type": "markdown",
   "source": [
    "# Paperset #"
   ],
   "metadata": {
    "collapsed": false
   }
  },
  {
   "cell_type": "code",
   "execution_count": null,
   "outputs": [],
   "source": [
    "moskalev = Paperset(\"longevity-genie/moskalev_papers\", splitter=splitter)\n",
    "moskalev.lazy_frame.collect().head(1)"
   ],
   "metadata": {
    "collapsed": false,
    "ExecuteTime": {
     "start_time": "2023-08-22T20:43:06.001540735Z"
    }
   }
  },
  {
   "cell_type": "code",
   "execution_count": 4,
   "outputs": [
    {
     "ename": "NameError",
     "evalue": "name 'db' is not defined",
     "output_type": "error",
     "traceback": [
      "\u001B[0;31m---------------------------------------------------------------------------\u001B[0m",
      "\u001B[0;31mNameError\u001B[0m                                 Traceback (most recent call last)",
      "Cell \u001B[0;32mIn[4], line 1\u001B[0m\n\u001B[0;32m----> 1\u001B[0m col \u001B[38;5;241m=\u001B[39m \u001B[43mdb\u001B[49m\u001B[38;5;241m.\u001B[39mclient\u001B[38;5;241m.\u001B[39mget_collections(\u001B[38;5;124m\"\u001B[39m\u001B[38;5;124mlongevity-genie/moskalev_papers\u001B[39m\u001B[38;5;124m\"\u001B[39m)\n\u001B[1;32m      2\u001B[0m col\n",
      "\u001B[0;31mNameError\u001B[0m: name 'db' is not defined"
     ]
    }
   ],
   "source": [
    "col = db.client.get_collections(\"longevity-genie/moskalev_papers\")\n",
    "col"
   ],
   "metadata": {
    "collapsed": false,
    "ExecuteTime": {
     "end_time": "2023-08-22T20:43:38.055407809Z",
     "start_time": "2023-08-22T20:43:35.224459102Z"
    }
   }
  },
  {
   "cell_type": "markdown",
   "source": [
    "Indexing\n",
    "========\n",
    "To avoid memory overflow we index everything by slices"
   ],
   "metadata": {
    "collapsed": false
   }
  },
  {
   "cell_type": "code",
   "execution_count": 8,
   "outputs": [
    {
     "name": "stderr",
     "output_type": "stream",
     "text": [
      "2023-08-06 14:33:01.672 | INFO     | indexpaper.paperset:index_fun:168 - indexed 0 + 10 * 792 documents with last document having 10.3389/fphar.2016.00505\n",
      "2023-08-06 14:35:12.323 | INFO     | indexpaper.paperset:index_fun:168 - indexed 0 + 10 * 508 documents with last document having 10.3389/fgene.2015.00353\n",
      "2023-08-06 14:38:44.692 | INFO     | indexpaper.paperset:index_fun:168 - indexed 0 + 10 * 858 documents with last document having 10.18632/oncotarget.24461\n",
      "2023-08-06 14:41:27.001 | INFO     | indexpaper.paperset:index_fun:168 - indexed 0 + 10 * 579 documents with last document having 10.3389/fgene.2019.00303\n",
      "2023-08-06 14:43:45.845 | INFO     | indexpaper.paperset:index_fun:168 - indexed 0 + 10 * 561 documents with last document having 10.3389/fgene.2018.00095\n",
      "2023-08-06 14:47:41.329 | INFO     | indexpaper.paperset:index_fun:168 - indexed 0 + 10 * 803 documents with last document having 10.3389/fmed.2020.00371\n",
      "2023-08-06 14:50:21.931 | INFO     | indexpaper.paperset:index_fun:168 - indexed 0 + 10 * 667 documents with last document having 10.1186/s12863-016-0459-1\n",
      "2023-08-06 14:53:01.416 | INFO     | indexpaper.paperset:index_fun:168 - indexed 0 + 10 * 682 documents with last document having 10.3390/antiox9060529\n",
      "2023-08-06 14:55:48.254 | INFO     | indexpaper.paperset:index_fun:168 - indexed 0 + 10 * 781 documents with last document having 10.3389/fgene.2015.00184\n",
      "2023-08-06 14:58:12.882 | INFO     | indexpaper.paperset:index_fun:168 - indexed 0 + 10 * 637 documents with last document having 10.3389/fgene.2015.00202\n"
     ]
    }
   ],
   "source": [
    "moskalev.index_by_slices(10, db, 0)"
   ],
   "metadata": {
    "collapsed": false,
    "ExecuteTime": {
     "end_time": "2023-08-06T11:58:12.930574233Z",
     "start_time": "2023-08-06T11:29:30.019455555Z"
    }
   }
  },
  {
   "cell_type": "code",
   "execution_count": 9,
   "outputs": [],
   "source": [
    "# Testing index\n"
   ],
   "metadata": {
    "collapsed": false,
    "ExecuteTime": {
     "end_time": "2023-08-06T12:39:30.888141717Z",
     "start_time": "2023-08-06T12:39:30.708993348Z"
    }
   }
  },
  {
   "cell_type": "code",
   "execution_count": 17,
   "outputs": [
    {
     "data": {
      "text/plain": "'proteins: p65 (RelA), RelB, c-Rel, p105/p50 (NF-κB1), and p100/52 (NF-κB2), which associate with each other to form distinct active NF-κB dimers. In the cytosol, NF-κB dimers in inactive form anchored by IκB are found. There are two ways to activate the NF-kB-induced gene transcription. These are triggered by cytokines TNFα and IL-1 (canonical signaling) or antigen receptors CD40 and BAFF (non-canonical/alternative signaling). There are the activation of IKK complex (IKKα, IKKβ, and IKKγ) and the phosphorylation of IκB proteins, which are in interaction with'"
     },
     "execution_count": 17,
     "metadata": {},
     "output_type": "execute_result"
    }
   ],
   "source": [
    "db.similarity_search(\"IKK-β activation \")[0].page_content"
   ],
   "metadata": {
    "collapsed": false,
    "ExecuteTime": {
     "end_time": "2023-08-06T12:41:43.302063403Z",
     "start_time": "2023-08-06T12:41:43.202131762Z"
    }
   }
  },
  {
   "cell_type": "code",
   "execution_count": null,
   "outputs": [],
   "source": [],
   "metadata": {
    "collapsed": false
   }
  }
 ],
 "metadata": {
  "kernelspec": {
   "display_name": "Python 3 (ipykernel)",
   "language": "python",
   "name": "python3"
  },
  "language_info": {
   "codemirror_mode": {
    "name": "ipython",
    "version": 3
   },
   "file_extension": ".py",
   "mimetype": "text/x-python",
   "name": "python",
   "nbconvert_exporter": "python",
   "pygments_lexer": "ipython3",
   "version": "3.10.12"
  }
 },
 "nbformat": 4,
 "nbformat_minor": 4
}
